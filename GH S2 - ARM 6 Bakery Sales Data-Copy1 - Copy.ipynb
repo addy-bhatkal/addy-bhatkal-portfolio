{
 "cells": [
  {
   "cell_type": "code",
   "execution_count": 34,
   "id": "f4d0b190",
   "metadata": {},
   "outputs": [],
   "source": [
    "#Importing the libraries\n",
    "import os\n",
    "import numpy as np\n",
    "import pandas as pd\n",
    "from mlxtend.frequent_patterns import association_rules\n",
    "from mlxtend.frequent_patterns import apriori"
   ]
  },
  {
   "cell_type": "code",
   "execution_count": 35,
   "id": "743a7c54",
   "metadata": {},
   "outputs": [],
   "source": [
    "# Data importing and necessary data manipulation\n",
    "df2 = pd.read_csv('ARM - Bakery.csv')\n",
    "df2['Items'] = df2['Items'].replace({\n",
    "    'Hot chocolate': 'Hot Chocolate'\n",
    "    })"
   ]
  },
  {
   "cell_type": "code",
   "execution_count": 44,
   "id": "d505142c",
   "metadata": {},
   "outputs": [],
   "source": [
    "# Defining the ARM source code\n",
    "\n",
    "def arm_ML(prod):\n",
    "    df2['Items'] = df2['Items'].str.strip()\n",
    "    basket = df2.groupby(['TransactionNo','Items'])['DateTime'].sum().unstack().reset_index().fillna(0).set_index('TransactionNo')\n",
    "    def encode(y):\n",
    "        if y== 0:\n",
    "            return 0\n",
    "        if y!= 0:\n",
    "            return 1\n",
    "    basket = basket.map(encode)\n",
    "    freq = apriori(basket, min_support=0.005, use_colnames=True)\n",
    "    rules = association_rules(freq, freq['itemsets'], metric='lift', min_threshold=1)\n",
    "    rules2 = rules.sort_values(by='lift', ascending = False)\n",
    "    df_rules = rules2.reset_index()\n",
    "    idx = [i for i in range(df_rules.shape[0])]\n",
    "    df3 = df_rules[['antecedents', 'consequents']].iloc[idx,:].reset_index().drop('index', axis = 1)\n",
    "    df3['antecedents'] = df3['antecedents'].apply(lambda x: ', '.join(list(x)))\n",
    "    df3['consequents'] = df3['consequents'].apply(lambda x: ', '.join(list(x)))\n",
    "    df3.head()\n",
    "    return list(df3[df3['antecedents']==prod]['consequents'])"
   ]
  },
  {
   "cell_type": "code",
   "execution_count": 37,
   "id": "ecccd023",
   "metadata": {},
   "outputs": [
    {
     "name": "stderr",
     "output_type": "stream",
     "text": [
      "/Users/adityabhatkal/Desktop/Changes addy-bhatkal-portfolio _ being made/env2/lib/python3.11/site-packages/mlxtend/frequent_patterns/fpcommon.py:161: DeprecationWarning: DataFrames with non-bool types result in worse computationalperformance and their support might be discontinued in the future.Please use a DataFrame with bool type\n",
      "  warnings.warn(\n"
     ]
    },
    {
     "data": {
      "text/plain": [
       "['Keeping It Local',\n",
       " 'Toast',\n",
       " 'Salad',\n",
       " 'Hot Chocolate, Cake',\n",
       " 'Spanish Brunch',\n",
       " 'Medialuna',\n",
       " 'Pastry',\n",
       " 'Tiffin',\n",
       " 'Alfajores',\n",
       " 'Hearty & Seasonal',\n",
       " 'Juice',\n",
       " 'Sandwich',\n",
       " 'Cake',\n",
       " 'Scone',\n",
       " 'Cookies',\n",
       " 'Hot Chocolate',\n",
       " 'Jammie Dodgers',\n",
       " 'Brownie',\n",
       " 'Muffin']"
      ]
     },
     "execution_count": 37,
     "metadata": {},
     "output_type": "execute_result"
    }
   ],
   "source": [
    "#Running the Assocaition Rules for 'Coffee'\n",
    "arm_ML('Coffee')"
   ]
  },
  {
   "cell_type": "code",
   "execution_count": 38,
   "id": "4d73c036",
   "metadata": {},
   "outputs": [
    {
     "name": "stderr",
     "output_type": "stream",
     "text": [
      "/Users/adityabhatkal/Desktop/Changes addy-bhatkal-portfolio _ being made/env2/lib/python3.11/site-packages/mlxtend/frequent_patterns/fpcommon.py:161: DeprecationWarning: DataFrames with non-bool types result in worse computationalperformance and their support might be discontinued in the future.Please use a DataFrame with bool type\n",
      "  warnings.warn(\n"
     ]
    },
    {
     "data": {
      "text/html": [
       "<div>\n",
       "<style scoped>\n",
       "    .dataframe tbody tr th:only-of-type {\n",
       "        vertical-align: middle;\n",
       "    }\n",
       "\n",
       "    .dataframe tbody tr th {\n",
       "        vertical-align: top;\n",
       "    }\n",
       "\n",
       "    .dataframe thead th {\n",
       "        text-align: right;\n",
       "    }\n",
       "</style>\n",
       "<table border=\"1\" class=\"dataframe\">\n",
       "  <thead>\n",
       "    <tr style=\"text-align: right;\">\n",
       "      <th></th>\n",
       "      <th>antecedents</th>\n",
       "      <th>consequents</th>\n",
       "    </tr>\n",
       "  </thead>\n",
       "  <tbody>\n",
       "    <tr>\n",
       "      <th>0</th>\n",
       "      <td>Coke</td>\n",
       "      <td>Sandwich</td>\n",
       "    </tr>\n",
       "    <tr>\n",
       "      <th>1</th>\n",
       "      <td>Sandwich</td>\n",
       "      <td>Coke</td>\n",
       "    </tr>\n",
       "    <tr>\n",
       "      <th>2</th>\n",
       "      <td>Juice</td>\n",
       "      <td>Cookies</td>\n",
       "    </tr>\n",
       "    <tr>\n",
       "      <th>3</th>\n",
       "      <td>Cookies</td>\n",
       "      <td>Juice</td>\n",
       "    </tr>\n",
       "    <tr>\n",
       "      <th>4</th>\n",
       "      <td>Cake</td>\n",
       "      <td>Coffee, Hot Chocolate</td>\n",
       "    </tr>\n",
       "  </tbody>\n",
       "</table>\n",
       "</div>"
      ],
      "text/plain": [
       "  antecedents            consequents\n",
       "0        Coke               Sandwich\n",
       "1    Sandwich                   Coke\n",
       "2       Juice                Cookies\n",
       "3     Cookies                  Juice\n",
       "4        Cake  Coffee, Hot Chocolate"
      ]
     },
     "execution_count": 38,
     "metadata": {},
     "output_type": "execute_result"
    }
   ],
   "source": [
    "#Code without the 'def' function to check each element if needed \n",
    "\n",
    "df2['Items'] = df2['Items'].str.strip()\n",
    "basket = df2.groupby(['TransactionNo','Items'])['DateTime'].sum().unstack().reset_index().fillna(0).set_index('TransactionNo')\n",
    "def encode(y):\n",
    "    if y== 0:\n",
    "        return 0\n",
    "    if y!= 0:\n",
    "        return 1\n",
    "basket = basket.map(encode)\n",
    "freq = apriori(basket, min_support=0.005, use_colnames=True)\n",
    "rules = association_rules(freq, freq['itemsets'], metric='lift', min_threshold=1)\n",
    "rules2 = rules.sort_values(by='lift', ascending = False)\n",
    "df_rules = rules2.reset_index()\n",
    "idx = [i for i in range(df_rules.shape[0])]\n",
    "df3 = df_rules[['antecedents', 'consequents']].iloc[idx,:].reset_index().drop('index', axis = 1)\n",
    "df3['antecedents'] = df3['antecedents'].apply(lambda x: ', '.join(list(x)))\n",
    "df3['consequents'] = df3['consequents'].apply(lambda x: ', '.join(list(x)))\n",
    "df3.head()\n"
   ]
  },
  {
   "cell_type": "code",
   "execution_count": 45,
   "id": "5268eeeb",
   "metadata": {},
   "outputs": [
    {
     "data": {
      "text/plain": [
       "array(['Coke', 'Sandwich', 'Juice', 'Cookies', 'Cake',\n",
       "       'Coffee, Hot Chocolate', 'Soup', 'Coffee, Cake', 'Hot Chocolate',\n",
       "       'Coffee, Tea', 'Tea', 'Pastry', 'Medialuna', 'Scone', 'Coffee',\n",
       "       'Keeping It Local', 'Toast', 'Coffee, Bread', 'Salad', 'Alfajores',\n",
       "       'Hot Chocolate, Cake', 'Spanish Brunch', 'Muffin', 'Brownie',\n",
       "       'Tiffin', 'Hearty & Seasonal', 'Jammie Dodgers', 'Bread', 'Jam'],\n",
       "      dtype=object)"
      ]
     },
     "execution_count": 45,
     "metadata": {},
     "output_type": "execute_result"
    }
   ],
   "source": [
    "#Drop down list for addybhatkal.com\n",
    "dropdown_list = df3['antecedents'].unique()\n",
    "dropdown_list"
   ]
  }
 ],
 "metadata": {
  "kernelspec": {
   "display_name": "Python 3 (ipykernel)",
   "language": "python",
   "name": "python3"
  },
  "language_info": {
   "codemirror_mode": {
    "name": "ipython",
    "version": 3
   },
   "file_extension": ".py",
   "mimetype": "text/x-python",
   "name": "python",
   "nbconvert_exporter": "python",
   "pygments_lexer": "ipython3",
   "version": "3.11.7"
  }
 },
 "nbformat": 4,
 "nbformat_minor": 5
}
