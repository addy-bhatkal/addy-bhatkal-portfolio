{
 "cells": [
  {
   "cell_type": "code",
   "execution_count": 5,
   "id": "a540c00c",
   "metadata": {},
   "outputs": [],
   "source": [
    "import pandas as pd\n",
    "import numpy as np\n",
    "import os\n",
    "from sklearn.ensemble import RandomForestClassifier, GradientBoostingClassifier\n",
    "from sklearn.model_selection import train_test_split, cross_val_score\n",
    "from sklearn.metrics import accuracy_score"
   ]
  },
  {
   "cell_type": "code",
   "execution_count": 6,
   "id": "2869bc78",
   "metadata": {},
   "outputs": [],
   "source": [
    "# os.chdir('C:\\\\Users\\\\ABC\\\\3. Edureka\\\\20. Website deployment\\\\Dasra')"
   ]
  },
  {
   "cell_type": "code",
   "execution_count": 7,
   "id": "15188a2a",
   "metadata": {},
   "outputs": [
    {
     "data": {
      "text/plain": [
       "['.DS_Store',\n",
       " '.git',\n",
       " '.gitignore',\n",
       " 'addy32',\n",
       " 'AG_news_classification.csv',\n",
       " 'ARM - Bakery.csv',\n",
       " 'ARM - Bakery_mapped.csv',\n",
       " 'ARM - Bakery_mapped2.csv',\n",
       " 'Bank Churn Final Algo.ipynb',\n",
       " 'BankChurn.csv',\n",
       " 'bankchurn.sav',\n",
       " 'customerbuyin.sav',\n",
       " 'cv1.pkl',\n",
       " 'Dasra 3 - Final Dropout rate.ipynb',\n",
       " 'db.sqlite3',\n",
       " 'Decision Tree Diabetes Dataset - S(2) - 4  v2.ipynb',\n",
       " 'diabetes.csv',\n",
       " 'diabetes_predictor.sav',\n",
       " 'dropout train only.csv',\n",
       " 'GH S2 - ARM 6 Bakery Sales Data-Copy1 - Copy.ipynb',\n",
       " 'manage.py',\n",
       " 'moviesrecom.csv',\n",
       " 'nb_model.pkl',\n",
       " 'News classifier.ipynb',\n",
       " 'pr32',\n",
       " 'song_reco.ipynb',\n",
       " 'spotify_millsongdata.csv',\n",
       " 'spotify_millsongdata2.csv',\n",
       " 'superstore_data_Classifier - 82% accuracy.csv',\n",
       " 'To Play around Movie reccomendation 3 - Copy.ipynb',\n",
       " 'Try 3 Algo 11 - Super store probability of customer buying into an ad campaign - Copy.ipynb']"
      ]
     },
     "execution_count": 7,
     "metadata": {},
     "output_type": "execute_result"
    }
   ],
   "source": [
    "os.listdir()\n"
   ]
  },
  {
   "cell_type": "code",
   "execution_count": 8,
   "id": "3a6bd72f",
   "metadata": {},
   "outputs": [],
   "source": [
    "df = pd.read_csv('dropout train only.csv')"
   ]
  },
  {
   "cell_type": "code",
   "execution_count": 9,
   "id": "d813bf52",
   "metadata": {},
   "outputs": [],
   "source": [
    "df['Target'] = df['Target'].map({'Graduate':2,'Enrolled':1, 'Dropout':0})"
   ]
  },
  {
   "cell_type": "code",
   "execution_count": 10,
   "id": "a5a88611",
   "metadata": {},
   "outputs": [],
   "source": [
    "x = df[['Marital status', 'Admission grade',\n",
    "       'Displaced', 'Educational special needs', 'Gender', 'Scholarship holder', \n",
    "        'Age at enrollment', 'Unemployment rate', 'Inflation rate', 'GDP']]"
   ]
  },
  {
   "cell_type": "code",
   "execution_count": 11,
   "id": "1bf50bbd",
   "metadata": {},
   "outputs": [],
   "source": [
    "y = df['Target']"
   ]
  },
  {
   "cell_type": "code",
   "execution_count": 12,
   "id": "4fac5517",
   "metadata": {},
   "outputs": [
    {
     "name": "stdout",
     "output_type": "stream",
     "text": [
      "0.6348667015159436\n"
     ]
    }
   ],
   "source": [
    "#THIS ONES IT.\n",
    "#GradientBoostingClassifier_Main\n",
    "x_train_gb, x_test_gb, y_train_gb, y_test_gb = train_test_split(x,y,test_size = 0.05, \n",
    "                                                                random_state = 55)\n",
    "gb = GradientBoostingClassifier()\n",
    "model_gb = gb.fit(x_train_gb, y_train_gb)\n",
    "y_predict_gb = gb.predict(x_test_gb)\n",
    "acc_gb = accuracy_score(y_predict_gb, y_test_gb)\n",
    "print(acc_gb)"
   ]
  },
  {
   "cell_type": "code",
   "execution_count": 13,
   "id": "37e7215c",
   "metadata": {},
   "outputs": [
    {
     "name": "stderr",
     "output_type": "stream",
     "text": [
      "c:\\Users\\manoj\\Desktop\\addy\\env\\Lib\\site-packages\\sklearn\\utils\\validation.py:2739: UserWarning: X does not have valid feature names, but GradientBoostingClassifier was fitted with feature names\n",
      "  warnings.warn(\n"
     ]
    },
    {
     "data": {
      "text/plain": [
       "array([[0.27249858, 0.29342046, 0.43408096]])"
      ]
     },
     "execution_count": 13,
     "metadata": {},
     "output_type": "execute_result"
    }
   ],
   "source": [
    "gb.predict_proba([[1,120.1,1,0,0,0,18,7.6,2.6,0.32]])"
   ]
  },
  {
   "cell_type": "code",
   "execution_count": 14,
   "id": "b9a8ca7c",
   "metadata": {},
   "outputs": [],
   "source": [
    "import pickle\n",
    "with open('dropout.sav', 'wb') as f1:\n",
    "    pickle.dump(model_gb, f1)"
   ]
  },
  {
   "cell_type": "code",
   "execution_count": 15,
   "id": "1ce00640",
   "metadata": {},
   "outputs": [],
   "source": [
    "with open('dropout.sav', 'rb') as f2:\n",
    "    loaded_dropout = pickle.load(f2)"
   ]
  },
  {
   "cell_type": "code",
   "execution_count": 16,
   "id": "220e198b",
   "metadata": {},
   "outputs": [
    {
     "name": "stderr",
     "output_type": "stream",
     "text": [
      "c:\\Users\\manoj\\Desktop\\addy\\env\\Lib\\site-packages\\sklearn\\utils\\validation.py:2739: UserWarning: X does not have valid feature names, but GradientBoostingClassifier was fitted with feature names\n",
      "  warnings.warn(\n"
     ]
    },
    {
     "data": {
      "text/plain": [
       "array([[0.27249858, 0.29342046, 0.43408096]])"
      ]
     },
     "execution_count": 16,
     "metadata": {},
     "output_type": "execute_result"
    }
   ],
   "source": [
    "loaded_dropout.predict_proba([[1,120.1,1,0,0,0,18,7.6,2.6,0.32]])"
   ]
  },
  {
   "cell_type": "code",
   "execution_count": null,
   "id": "3a4b5435",
   "metadata": {},
   "outputs": [],
   "source": []
  }
 ],
 "metadata": {
  "kernelspec": {
   "display_name": "Python 3",
   "language": "python",
   "name": "python3"
  },
  "language_info": {
   "codemirror_mode": {
    "name": "ipython",
    "version": 3
   },
   "file_extension": ".py",
   "mimetype": "text/x-python",
   "name": "python",
   "nbconvert_exporter": "python",
   "pygments_lexer": "ipython3",
   "version": "3.12.8"
  }
 },
 "nbformat": 4,
 "nbformat_minor": 5
}
